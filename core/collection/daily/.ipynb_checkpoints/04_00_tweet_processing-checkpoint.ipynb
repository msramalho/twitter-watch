{
 "cells": [
  {
   "cell_type": "markdown",
   "metadata": {},
   "source": [
    "# Daily Tweet Processing\n",
    "Iterate all unprocessed tweets (processed tweets are marked with `processed=True`) and increment their `appearance` count in the database, namely:\n",
    "* all **mentioned** users\n",
    "* all **authors** (can come from different sources so a good amount of users won't be of depth=0 or depth=1) \n",
    "* all **authors** of retweeted tweets\n",
    "* all **authors** of quoted tweets (retweet + comment)\n",
    "* all **authors** of replied tweets"
   ]
  },
  {
   "cell_type": "code",
   "execution_count": null,
   "metadata": {},
   "outputs": [],
   "source": [
    "# required imports to access api_db, misc, misc.CONFIG, ...\n",
    "import sys\n",
    "sys.path = ['.', '..', '../..'] + sys.path\n",
    "from collection import *"
   ]
  },
  {
   "cell_type": "markdown",
   "metadata": {},
   "source": [
    "### Conditional Execution\n",
    "Each file needs to verify if it should be executed or not based on the configurations (for some files this is not optional but all should have this section, even if it is tautological). Example:\n",
    "```python\n",
    "if not misc.CONFIG[\"collection\"][\"execute_this_script\"]: exit()\n",
    "```"
   ]
  },
  {
   "cell_type": "code",
   "execution_count": null,
   "metadata": {},
   "outputs": [],
   "source": [
    "# Conditional execution\n",
    "pass"
   ]
  },
  {
   "cell_type": "markdown",
   "metadata": {},
   "source": [
    "<hr>\n",
    "<h1 align=\"center\">driver code</h1>"
   ]
  },
  {
   "cell_type": "code",
   "execution_count": null,
   "metadata": {},
   "outputs": [],
   "source": [
    "# test getting a tweet that is a retweet of a quote and format it\n",
    "# _id= 1210429083273891841\n",
    "# rt = api_db.api.GetStatus(_id)\n",
    "# print(rt)\n",
    "# tweet_to_db_format(rt)"
   ]
  },
  {
   "cell_type": "code",
   "execution_count": null,
   "metadata": {},
   "outputs": [],
   "source": [
    "# ensure mongodb tweets find by id is working (I has some problems with robot3T)\n",
    "# next(api_db.col_tweets.find({\"_id\": 1245814925953339397}))"
   ]
  },
  {
   "cell_type": "code",
   "execution_count": null,
   "metadata": {},
   "outputs": [],
   "source": [
    "from pytictoc import TicToc"
   ]
  },
  {
   "cell_type": "code",
   "execution_count": null,
   "metadata": {},
   "outputs": [],
   "source": [
    "processed_key = \"processed\""
   ]
  },
  {
   "cell_type": "code",
   "execution_count": null,
   "metadata": {},
   "outputs": [],
   "source": [
    "find_params = {processed_key: {\"$exists\": False}}\n",
    "retrieve_params = {\"user_mentions\": True, \"user\": True, \"retweeted_status.user\" :True, \"quoted_status.user\": True, \"in_reply_to_user_id\": True}\n",
    "tweets = api_db.col_tweets.find(find_params, retrieve_params, no_cursor_timeout=True)\n",
    "\n",
    "print(\"Processing tweets (silent db-only)...\", end=\"\", flush=True)\n",
    "count = 0\n",
    "with TicToc():\n",
    "    for t in tweets:\n",
    "        # fill user_ids list from differnt tweet information\n",
    "        user_ids = [t[\"user\"]]\n",
    "        if \"user_mentions\" in t: user_ids.extend(t[\"user_mentions\"])\n",
    "        if \"retweeted_status\" in t: user_ids.append(t[\"retweeted_status\"][\"user\"])\n",
    "        if \"quoted_status\" in t: user_ids.append(t[\"quoted_status\"][\"user\"])\n",
    "        if \"in_reply_to_user_id\" in t: user_ids.append(t[\"in_reply_to_user_id\"])\n",
    "        # remove duplicates, update user counts, mark tweet as procesed\n",
    "        user_ids = list(set(user_ids)) # they should not count twice\n",
    "        upsert_user_ids_appearances(user_ids)\n",
    "        upsert_tweet_info({\"_id\": t[\"_id\"], processed_key: True})\n",
    "        count+=1\n",
    "    print(\"processed %d new tweets, done.\" % (count))"
   ]
  },
  {
   "cell_type": "code",
   "execution_count": null,
   "metadata": {},
   "outputs": [],
   "source": [
    "print(\"DONE\")"
   ]
  }
 ],
 "metadata": {
  "kernelspec": {
   "display_name": "Python 3",
   "language": "python",
   "name": "python3"
  },
  "language_info": {
   "codemirror_mode": {
    "name": "ipython",
    "version": 3
   },
   "file_extension": ".py",
   "mimetype": "text/x-python",
   "name": "python",
   "nbconvert_exporter": "python",
   "pygments_lexer": "ipython3",
   "version": "3.7.4"
  }
 },
 "nbformat": 4,
 "nbformat_minor": 2
}

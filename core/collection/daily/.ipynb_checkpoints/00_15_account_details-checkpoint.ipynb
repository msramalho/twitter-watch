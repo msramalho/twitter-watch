{
 "cells": [
  {
   "cell_type": "markdown",
   "metadata": {},
   "source": [
    "# Account Details\n",
    "Iterate all existing user accounts and fill their details (updated). "
   ]
  },
  {
   "cell_type": "code",
   "execution_count": null,
   "metadata": {},
   "outputs": [],
   "source": [
    "# required imports to access api_db, misc, misc.CONFIG, ...\n",
    "import sys\n",
    "sys.path = ['.', '..', '../..'] + sys.path\n",
    "from collection import *"
   ]
  },
  {
   "cell_type": "markdown",
   "metadata": {},
   "source": [
    "### Conditional Execution\n",
    "Each file needs to verify if it should be executed or not based on the configurations (for some files this is not optional but all should have this section, even if it is tautological). Example:\n",
    "```python\n",
    "if not misc.CONFIG[\"collection\"][\"execute_this_script\"]: exit()\n",
    "```"
   ]
  },
  {
   "cell_type": "code",
   "execution_count": null,
   "metadata": {},
   "outputs": [],
   "source": [
    "# Conditional execution\n",
    "pass"
   ]
  },
  {
   "cell_type": "markdown",
   "metadata": {},
   "source": [
    "<hr>\n",
    "<h1 align=\"center\">driver code</h1>"
   ]
  },
  {
   "cell_type": "markdown",
   "metadata": {},
   "source": [
    "iterate every user, try to update their personal information -> upsert in db"
   ]
  },
  {
   "cell_type": "code",
   "execution_count": null,
   "metadata": {},
   "outputs": [],
   "source": [
    "# Testing suspension detection and update in database\n",
    "# try: \n",
    "#     api_db.api.GetUser(screen_name=\"fuckeveryword\")\n",
    "# except twitter.TwitterError as e:\n",
    "#     print(handle_error_next_api(e, 1113868486168731648, \"process_user:GetUser\"))"
   ]
  },
  {
   "cell_type": "code",
   "execution_count": null,
   "metadata": {},
   "outputs": [],
   "source": [
    "find_params = find_exclude_invalid({\"screen_name\": {\"$exists\": False}})\n",
    "print(\"Finding with params:\", find_params)\n",
    "users = api_db.col_users.find(find_params, {}, no_cursor_timeout=True)#.limit(1)\n",
    "\n",
    "u = next_or_none(users)\n",
    "while u:\n",
    "    print(\"getting account details for: %s...\" % u[\"_id\"], end=\"\", flush=True)\n",
    "    try: \n",
    "        account = get_account_details(user_id=u[\"_id\"])\n",
    "        if account: upsert_user(user_to_db_format(account))\n",
    "        else: print(\"[returned none]\", end=\"\", flush=True)\n",
    "        print(\"Done\")\n",
    "        u = next_or_none(users)\n",
    "    except twitter.TwitterError as e:\n",
    "        if handle_error_next_api(e, u[\"_id\"], \"process_user:GetUser\"):\n",
    "            print(\"Failed, retrying for user %s.\" % u[\"_id\"])    \n",
    "        else: # failed but repeating will lead nowhere\n",
    "            print(\"Failed, skipping.\")"
   ]
  },
  {
   "cell_type": "code",
   "execution_count": null,
   "metadata": {},
   "outputs": [],
   "source": [
    "print(\"DONE\")"
   ]
  }
 ],
 "metadata": {
  "kernelspec": {
   "display_name": "Python 3",
   "language": "python",
   "name": "python3"
  },
  "language_info": {
   "codemirror_mode": {
    "name": "ipython",
    "version": 3
   },
   "file_extension": ".py",
   "mimetype": "text/x-python",
   "name": "python",
   "nbconvert_exporter": "python",
   "pygments_lexer": "ipython3",
   "version": "3.7.4"
  }
 },
 "nbformat": 4,
 "nbformat_minor": 2
}
